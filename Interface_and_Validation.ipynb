{
  "nbformat": 4,
  "nbformat_minor": 0,
  "metadata": {
    "colab": {
      "name": "Interface and Validation.ipynb",
      "provenance": [],
      "authorship_tag": "ABX9TyOFAWQPkhBag8/EnjvGQcFJ",
      "include_colab_link": true
    },
    "kernelspec": {
      "name": "python3",
      "display_name": "Python 3"
    },
    "language_info": {
      "name": "python"
    }
  },
  "cells": [
    {
      "cell_type": "markdown",
      "metadata": {
        "id": "view-in-github",
        "colab_type": "text"
      },
      "source": [
        "<a href=\"https://colab.research.google.com/github/kazim-glitch/Deep-learning/blob/main/Interface_and_Validation.ipynb\" target=\"_parent\"><img src=\"https://colab.research.google.com/assets/colab-badge.svg\" alt=\"Open In Colab\"/></a>"
      ]
    },
    {
      "cell_type": "code",
      "metadata": {
        "id": "iBjq7QKHyZIc"
      },
      "source": [
        "import torch \n",
        "\n",
        "import torch.nn.functional as f\n",
        "\n",
        "from  torch import optim \n",
        "\n",
        "from torch import nn\n",
        "from torchvision import datasets,transforms"
      ],
      "execution_count": 8,
      "outputs": []
    },
    {
      "cell_type": "code",
      "metadata": {
        "id": "vevXH2k3nIEz"
      },
      "source": [
        "transform = transforms.Compose([transforms.ToTensor(),\n",
        "  transforms.Normalize((0.5,), (0.5,))\n",
        "])\n",
        "\n",
        "\n",
        "trainset = datasets.FashionMNIST('-/pytorch/FashionMNIST-data/',download=True,train=True,transform=transform)\n",
        "\n",
        "trainloader = torch.utils.data.DataLoader(trainset,batch_size=64,shuffle=True)\n",
        "\n",
        "\n",
        "testset = datasets.FashionMNIST('-/pytorch/FashionMNIST-data/',download=True,train=False,transform=transform)\n",
        "\n",
        "testloader = torch.utils.data.DataLoader(testset,batch_size=64,shuffle=True)"
      ],
      "execution_count": 9,
      "outputs": []
    },
    {
      "cell_type": "code",
      "metadata": {
        "id": "LqQYM7x_nf0p"
      },
      "source": [
        "class network(nn.Module):\n",
        "  def __init__(self):\n",
        "    super().__init__()\n",
        "    self.l1 = nn.Linear(784,256)\n",
        "    self.l2 = nn.Linear(256,128)\n",
        "    self.l3 = nn.Linear(128,64)\n",
        "    self.l4 = nn.Linear(64,10)\n",
        "\n",
        "    self.dropout = nn.Dropout(p=0.2,inplace=True)\n",
        "\n",
        "\n",
        "\n",
        "  def forward(self,x):\n",
        "\n",
        "    x= x.view(x.shape[0],-1) \n",
        "    x = self.Dropout(f.relu(self.l1(x)))\n",
        "    x = self.Dropoutf.relu(self.l2(x))\n",
        "    x = self.Dropoutf.relu(self.l3(x))\n",
        "    x = f.log_softmax(self.l4(x),dim=1)\n",
        "\n",
        "    return x\n",
        "\n",
        "\n",
        "    "
      ],
      "execution_count": 10,
      "outputs": []
    },
    {
      "cell_type": "code",
      "metadata": {
        "id": "FfUs0w2suyQh"
      },
      "source": [
        "model = network()\n",
        "\n",
        "images,labels = next(iter(testloader))\n",
        "\n",
        "ps = torch.exp(model(images))\n",
        "\n",
        "print(ps.shape)"
      ],
      "execution_count": null,
      "outputs": []
    },
    {
      "cell_type": "code",
      "metadata": {
        "id": "kG7q1NljzylI"
      },
      "source": [
        "top_p,top_class = ps.topk(1,dim=1)\n",
        "\n",
        "print(top_class[:10,:])"
      ],
      "execution_count": null,
      "outputs": []
    },
    {
      "cell_type": "code",
      "metadata": {
        "id": "_4d_snkrO5Vx"
      },
      "source": [
        "equals = top_class == labels.view(*top_class.shape)"
      ],
      "execution_count": null,
      "outputs": []
    },
    {
      "cell_type": "code",
      "metadata": {
        "id": "l3zF3i4APRvn"
      },
      "source": [
        "accuracy = torch.mean(equals.type(torch.FloatTensor))\n",
        "\n",
        "print(accuracy.item()*100)"
      ],
      "execution_count": null,
      "outputs": []
    },
    {
      "cell_type": "code",
      "metadata": {
        "id": "cas3yiEOPgis"
      },
      "source": [
        "model = network()\n",
        "\n",
        "criterion =nn.NLLLoss()\n",
        "\n",
        "optimser = optim.Adam(model.parameters(),lr=0.03)\n",
        "\n",
        "epochs =20\n",
        "steps =0\n",
        "\n",
        "training_losses,test_losses = [],[]\n",
        "\n",
        "for i in range(epochs):\n",
        "  running_loss= 0 \n",
        "  for images,labels in trainloader:\n",
        "    optimser.zero_grad()\n",
        "\n",
        "    logits = model(images)\n",
        "\n",
        "    loss= criterion(logits,labels)\n",
        "\n",
        "    loss.backward()\n",
        "    \n",
        "    optimser.step()\n",
        "\n",
        "    running_loss += loss.item()\n",
        "  else:\n",
        "    test_loss=0\n",
        "    accuracy=0\n",
        "    #images,labels = next(iter(testloader))\n",
        "\n",
        "    with torch.no_grad():\n",
        "      model.eval()\n",
        "      for images,labels in testloader:\n",
        "        logit = model(images)\n",
        "        test_loss += criterion(logit,labels)\n",
        "        ps = torch.exp(logit)\n",
        "        top_p,top_class = ps.topk(1,dim=1)\n",
        "        equals = top_class == labels.view(*top_class.shape)\n",
        "        accuracy = torch.mean(equals.type(torch.FloatTensor))\n",
        "        #print(accuracy.item()*100)\n",
        "        \n",
        "      \n",
        "\n",
        "\n",
        "    model.train()\n",
        "\n",
        "    training_loss.append(running_loss/len(trainloader))\n",
        "    test_losses.append(test_loss/len(testloader))\n",
        "\n",
        "    print(\"Epoch: {}/{}\".format(i+1,epochs),\n",
        "          \"training loss: {:.3f}\".format(running_loss/len(trainloader)),\n",
        "          \"testloss: {:.3f}\".format(test_loss/len(testloader)),\n",
        "          \"Accuracy : {:.3f} \".format(accuracy/len(testloader)))\n",
        "        \n",
        "\n",
        "\n",
        "\n"
      ],
      "execution_count": null,
      "outputs": []
    },
    {
      "cell_type": "code",
      "metadata": {
        "id": "GjApzPAxuC8t"
      },
      "source": [
        "import matplotlib.pyplot as plt "
      ],
      "execution_count": null,
      "outputs": []
    },
    {
      "cell_type": "code",
      "metadata": {
        "id": "uTV7ifnTj3kc"
      },
      "source": [
        "plt.plot(training_losses,label='train loss')\n",
        "plt.plot(test_losses,label='Validation ')\n",
        "\n",
        "plt.legend(frameon=False)"
      ],
      "execution_count": null,
      "outputs": []
    },
    {
      "cell_type": "code",
      "metadata": {
        "id": "o2gpw8sTRlR3"
      },
      "source": [
        ""
      ],
      "execution_count": null,
      "outputs": []
    }
  ]
}