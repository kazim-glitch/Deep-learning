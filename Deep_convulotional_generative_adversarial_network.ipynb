{
  "nbformat": 4,
  "nbformat_minor": 0,
  "metadata": {
    "colab": {
      "name": "Deep convulotional generative adversarial network.ipynb",
      "private_outputs": true,
      "provenance": [],
      "collapsed_sections": [],
      "authorship_tag": "ABX9TyOjTvdTGw8ABzeQvx4Apk3a",
      "include_colab_link": true
    },
    "kernelspec": {
      "name": "python3",
      "display_name": "Python 3"
    },
    "language_info": {
      "name": "python"
    }
  },
  "cells": [
    {
      "cell_type": "markdown",
      "metadata": {
        "id": "view-in-github",
        "colab_type": "text"
      },
      "source": [
        "<a href=\"https://colab.research.google.com/github/kazim-glitch/Deep-learning/blob/main/Deep_convulotional_generative_adversarial_network.ipynb\" target=\"_parent\"><img src=\"https://colab.research.google.com/assets/colab-badge.svg\" alt=\"Open In Colab\"/></a>"
      ]
    },
    {
      "cell_type": "code",
      "metadata": {
        "id": "vcjO_ZwRcM5k"
      },
      "source": [
        "import torch\n",
        "\n",
        "import torch.nn as nn\n",
        "import torch.optim as optim\n",
        "import torchvision\n",
        "import torchvision.datasets as datasets\n",
        "from torch.utils.data import DataLoader\n",
        "from torch.utils.tensorboard import  SummaryWriter"
      ],
      "execution_count": null,
      "outputs": []
    },
    {
      "cell_type": "code",
      "metadata": {
        "id": "iA6MmEkBcXwk"
      },
      "source": [
        "class discriminator(nn.Module):\n",
        "  def __init__(self,channels_image,features):\n",
        "    super(discriminator,self).__init__()\n",
        "    self.disc = nn.Sequential(\n",
        "        \n",
        "        nn.Conv2d(\n",
        "         channels_image,features,kernel_size=4,stride=2,padding=1   \n",
        "        ),\n",
        "        nn.LeakyReLU(0.2),\n",
        "        self.block(features,features*2,4,2,1), \n",
        "        self.block(features*2,features*4,4,2,1),\n",
        "        self.block(features*4,features*8,4,2,1),\n",
        "        nn.Conv2d(features*8,1,kernel_size=4,stride=2,padding=0),\n",
        "        nn.Sigmoid(),\n",
        "    )\n",
        "\n",
        "  def block(self,input_chanel,output_chanel,kernel_size,stride,padding):\n",
        "    return nn.Sequential(\n",
        "        nn.Conv2d(\n",
        "            input_chanel,\n",
        "            output_chanel,\n",
        "            kernel_size,\n",
        "            stride,\n",
        "            padding,\n",
        "            bias=False\n",
        "\n",
        "        ),\n",
        "        nn.BatchNorm2d(output_chanel),\n",
        "        nn.LeakyReLU(0.2), # as mentioned in the paper batchnorm can only be used in the final layers of the disc\n",
        "        # nn.Tanh(),\n",
        "        # nn.ReLU(),\n",
        "\n",
        "    )\n",
        "  def forward(self,x):\n",
        "    return self.disc(x)\n",
        "\n",
        "class generator(nn.Module):\n",
        "  def __init__(self,noise_z_dim,channels_image,feature):\n",
        "    super(generator,self).__init__()\n",
        "    self.gen = nn.Sequential(\n",
        "        self.block(noise_z_dim,feature*16,4,1,0),\n",
        "        self.block(feature*16,feature*8,4,2,1),\n",
        "        self.block(feature*8,feature*4,4,2,1),\n",
        "        self.block(feature*4,feature*2,4,2,1),\n",
        "        nn.ConvTranspose2d(\n",
        "            #upscaling the image\n",
        "            feature*2,channels_image,kernel_size=4,stride=2,padding=1,\n",
        "        ),\n",
        "        nn.Tanh(),\n",
        "        \n",
        "        \n",
        "\n",
        "    )\n",
        "\n",
        "  def block(self,inp_chanel,out_chanel,kernel_size,stride,padding):\n",
        "\n",
        "    return nn.Sequential(\n",
        "     nn.ConvTranspose2d(\n",
        "         inp_chanel,\n",
        "         out_chanel,\n",
        "         kernel_size,\n",
        "         stride,\n",
        "         padding,\n",
        "         bias=False\n",
        "\n",
        "         \n",
        "     ),\n",
        "     nn.BatchNorm2d(out_chanel),\n",
        "     nn.ReLU() \n",
        "\n",
        "     )\n",
        "  def forward(self,x):\n",
        "    return self.gen(x)  \n",
        "\n",
        "     \n",
        "\n",
        "def initiliaze_weights(model):\n",
        "  for m in model.modules():\n",
        "    if isinstance(m, (nn.Conv2d,nn.ConvTranspose2d,nn.BatchNorm2d)):\n",
        "      #initializing weights for discriminator\n",
        "      nn.init.normal_(m.weight.data,0.0,0.02) #in paper normal distribution 0 and standard deviation =0.02\n",
        "\n",
        "    # if isinstance(m, nn.ConvTranspose2d):\n",
        "    #   nn.init.normal_(m.weigth.data,0.0,0.02)  \n",
        "\n",
        "    # if isinstance(m, nn.BatchNorm2d):\n",
        "    #   nn.init.normal_(m.weigth.data,0.0,0.02)  \n",
        "\n",
        "\n",
        "\n"
      ],
      "execution_count": null,
      "outputs": []
    },
    {
      "cell_type": "code",
      "metadata": {
        "id": "SpyB9q2pt9TW"
      },
      "source": [
        "def forward_check():\n",
        "  N,in_chanel,H,W = 8,3,64,64\n",
        "  noise_z = 100\n",
        "\n",
        "  x=torch.randn((N,in_chanel,H,W))\n",
        "\n",
        "  disc = discriminator(in_chanel,8)\n",
        "  initiliaze_weights(disc)\n",
        "  assert disc(x).shape == (N,1,1,1)\n",
        "\n",
        "  gen = generator(noise_z,in_chanel,8)\n",
        "  initiliaze_weights(gen)\n",
        "  z =torch.randn((N,noise_z,1,1))\n",
        "  assert gen(z).shape == (N,in_chanel,H,W)\n",
        "\n",
        "forward_check()"
      ],
      "execution_count": null,
      "outputs": []
    },
    {
      "cell_type": "code",
      "metadata": {
        "id": "0awTkSXEvuH-"
      },
      "source": [
        ""
      ],
      "execution_count": null,
      "outputs": []
    },
    {
      "cell_type": "code",
      "metadata": {
        "id": "6K3ursmD3Y-L"
      },
      "source": [
        ""
      ],
      "execution_count": null,
      "outputs": []
    }
  ]
}