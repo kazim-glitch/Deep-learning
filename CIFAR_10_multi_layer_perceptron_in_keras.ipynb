{
  "nbformat": 4,
  "nbformat_minor": 0,
  "metadata": {
    "colab": {
      "name": "CIFAR 10 multi layer perceptron  in keras.ipynb",
      "private_outputs": true,
      "provenance": [],
      "authorship_tag": "ABX9TyORn1TbIAq3j5mbJ9YmWjh8",
      "include_colab_link": true
    },
    "kernelspec": {
      "name": "python3",
      "display_name": "Python 3"
    },
    "language_info": {
      "name": "python"
    }
  },
  "cells": [
    {
      "cell_type": "markdown",
      "metadata": {
        "id": "view-in-github",
        "colab_type": "text"
      },
      "source": [
        "<a href=\"https://colab.research.google.com/github/kazim-glitch/Deep-learning/blob/main/CIFAR_10_multi_layer_perceptron_in_keras.ipynb\" target=\"_parent\"><img src=\"https://colab.research.google.com/assets/colab-badge.svg\" alt=\"Open In Colab\"/></a>"
      ]
    },
    {
      "cell_type": "code",
      "metadata": {
        "id": "_IqZkEMUW-ei"
      },
      "source": [
        "import keras\n",
        "from keras.datasets import cifar10"
      ],
      "execution_count": null,
      "outputs": []
    },
    {
      "cell_type": "code",
      "metadata": {
        "id": "45nIrSYlXOKW"
      },
      "source": [
        "(x_train, y_train), (x_test, y_test) = cifar10.load_data()"
      ],
      "execution_count": null,
      "outputs": []
    },
    {
      "cell_type": "code",
      "metadata": {
        "id": "tIztWq4TXCRN"
      },
      "source": [
        "import numpy as np\n",
        "import matplotlib.pyplot as plt\n",
        "%matplotlib inline\n",
        "\n",
        "fig = plt.figure(figsize=(20,5))\n",
        "for i in range(36):\n",
        "    ax = fig.add_subplot(3, 12, i + 1, xticks=[], yticks=[])\n",
        "    ax.imshow(np.squeeze(x_train[i]))"
      ],
      "execution_count": null,
      "outputs": []
    },
    {
      "cell_type": "markdown",
      "metadata": {
        "id": "79zjmmgtZRvp"
      },
      "source": [
        "the value of the brightest image pixel is 255 so we need to divide each image and every pixel value by 255 to normalize and standardize to make the images between range [0,1]"
      ]
    },
    {
      "cell_type": "code",
      "metadata": {
        "id": "vccSQYICXFdc"
      },
      "source": [
        "x_train = x_train.astype('float32')/255\n",
        "x_test = x_test.astype('float32')/255"
      ],
      "execution_count": null,
      "outputs": []
    },
    {
      "cell_type": "markdown",
      "metadata": {
        "id": "jm5WNxwQaIS9"
      },
      "source": [
        "Before Coding i would like define my model, first we need to flatten out the images to be fed into the input layers of the neural network, next i have used two hidden layers and followed by a output layer, In each hidden layer activation aka non linear function used is relu which gives the probability between 0 and 1 and for the final out layer Softmax activation is used"
      ]
    },
    {
      "cell_type": "code",
      "metadata": {
        "id": "UqjQ4irvgQaG"
      },
      "source": [
        "from keras.utils import np_utils\n",
        "from keras import utils as np_utils\n",
        "from tensorflow.keras.utils import to_categorical\n",
        "\n",
        "\n",
        "num_classes = len(np.unique(y_train))\n",
        "y_train = to_categorical(y_train, num_classes)\n",
        "y_test = to_categorical(y_test, num_classes)\n",
        "\n",
        "(x_train, x_valid) = x_train[5000:], x_train[:5000]\n",
        "(y_train, y_valid) = y_train[5000:], y_train[:5000]\n",
        "\n",
        "print('x_train shape:', x_train.shape)\n",
        "\n",
        "print(x_train.shape[0], 'train samples')\n",
        "print(x_test.shape[0], 'test samples')\n",
        "print(x_valid.shape[0], 'validation samples')"
      ],
      "execution_count": null,
      "outputs": []
    },
    {
      "cell_type": "code",
      "metadata": {
        "id": "rZyt-WB6Z1KV"
      },
      "source": [
        "from keras.models import Sequential\n",
        "from keras.layers import Dense, Dropout, Flatten\n",
        "\n",
        "model = Sequential()\n",
        "model.add(Flatten(input_shape = x_train.shape[1:]))\n",
        "model.add(Dense(1000, activation='relu'))\n",
        "model.add(Dropout(0.2))\n",
        "model.add(Dense(512, activation='relu'))\n",
        "model.add(Dropout(0.2))\n",
        "model.add(Dense(num_classes, activation='softmax'))\n",
        "\n",
        "model.summary()"
      ],
      "execution_count": null,
      "outputs": []
    },
    {
      "cell_type": "code",
      "metadata": {
        "id": "pZHjfAo5gLl7"
      },
      "source": [
        "model.compile(loss='categorical_crossentropy', optimizer='rmsprop', \n",
        "                  metrics=['accuracy'])"
      ],
      "execution_count": null,
      "outputs": []
    }
  ]
}