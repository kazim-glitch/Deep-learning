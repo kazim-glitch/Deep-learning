{
  "nbformat": 4,
  "nbformat_minor": 0,
  "metadata": {
    "colab": {
      "name": "IOU",
      "private_outputs": true,
      "provenance": [],
      "authorship_tag": "ABX9TyNt+TSFNOCpVxUSMn/cvnn9",
      "include_colab_link": true
    },
    "kernelspec": {
      "name": "python3",
      "display_name": "Python 3"
    },
    "language_info": {
      "name": "python"
    }
  },
  "cells": [
    {
      "cell_type": "markdown",
      "metadata": {
        "id": "view-in-github",
        "colab_type": "text"
      },
      "source": [
        "<a href=\"https://colab.research.google.com/github/kazim-glitch/Deep-learning/blob/main/IOU.ipynb\" target=\"_parent\"><img src=\"https://colab.research.google.com/assets/colab-badge.svg\" alt=\"Open In Colab\"/></a>"
      ]
    },
    {
      "cell_type": "code",
      "metadata": {
        "id": "PVmP7tL_82-p"
      },
      "source": [
        "def IOU(box1,box2):\n",
        "  x1,y1,x2,y2 = box1\n",
        "  x3,y3,x4,y4 = box2\n",
        "\n",
        "  xinter1 = max(x1,x3)\n",
        "  yinter1 = max(y1,y3)\n",
        "  xinter2 = max(x2,x4)\n",
        "  yinter2 = max(y2,y4)\n",
        "\n",
        "  width_inter = abs(xinter2-xinter1)\n",
        "  height_inter = abs(yinter2-yinter1)\n",
        "\n",
        "  areainter = width_inter *height_inter\n",
        "\n",
        "  widthbox1 = abs(x2-x1)\n",
        "  widthbox2 =abs(x4-x3)\n",
        "\n",
        "  heightbox1 = abs(y2-y1)\n",
        "  heightbox2 = abs(y4-y3)\n",
        "\n",
        "  areabox1 = heightbox1 * widthbox1\n",
        "  areabox2 = heightbox2 * widthbox2\n",
        "  \n",
        "  areaunion = areabox1 * areabox2\n",
        "\n",
        "  IOU = areainter/areaunion\n",
        "\n",
        "  return IOU\n",
        "  \n",
        "  \n"
      ],
      "execution_count": null,
      "outputs": []
    }
  ]
}