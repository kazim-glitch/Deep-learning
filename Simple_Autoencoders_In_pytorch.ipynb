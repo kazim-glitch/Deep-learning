{
  "nbformat": 4,
  "nbformat_minor": 0,
  "metadata": {
    "colab": {
      "name": "Simple Autoencoders In pytorch",
      "private_outputs": true,
      "provenance": [],
      "authorship_tag": "ABX9TyP2zI5atbPB/B/+dqYA5lrB",
      "include_colab_link": true
    },
    "kernelspec": {
      "name": "python3",
      "display_name": "Python 3"
    },
    "language_info": {
      "name": "python"
    },
    "accelerator": "GPU"
  },
  "cells": [
    {
      "cell_type": "markdown",
      "metadata": {
        "id": "view-in-github",
        "colab_type": "text"
      },
      "source": [
        "<a href=\"https://colab.research.google.com/github/kazim-glitch/Deep-learning/blob/main/Simple_Autoencoders_In_pytorch.ipynb\" target=\"_parent\"><img src=\"https://colab.research.google.com/assets/colab-badge.svg\" alt=\"Open In Colab\"/></a>"
      ]
    },
    {
      "cell_type": "code",
      "metadata": {
        "id": "WCp40dmCK0Kk"
      },
      "source": [
        "import torch \n",
        "import torch.nn as nn\n",
        "import torch.optim as optim"
      ],
      "execution_count": null,
      "outputs": []
    },
    {
      "cell_type": "markdown",
      "metadata": {
        "id": "P5QBAGeBeu1u"
      },
      "source": [
        ""
      ]
    },
    {
      "cell_type": "code",
      "metadata": {
        "id": "y73TIJ6U0VlA"
      },
      "source": [
        "import numpy"
      ],
      "execution_count": null,
      "outputs": []
    },
    {
      "cell_type": "code",
      "metadata": {
        "id": "lwpn3DByL9r_"
      },
      "source": [
        "from torchvision import datasets,transforms\n",
        "import matplotlib.pyplot as plt"
      ],
      "execution_count": null,
      "outputs": []
    },
    {
      "cell_type": "code",
      "metadata": {
        "id": "o-Lty8pCMLv2"
      },
      "source": [
        "transform = transforms.ToTensor()\n",
        "\n",
        "# transform = transforms.Compose([\n",
        "#            transforms.ToTensor(),\n",
        "#            transforms.Normalize((0.5),(0.5))                     \n",
        "# ])\n",
        "\n",
        "mnist_data = datasets.MNIST(root='./data',download=True,train=True,transform=transform)\n",
        "\n",
        "data_loader = torch.utils.data.DataLoader(dataset=mnist_data,batch_size=64,shuffle=True)"
      ],
      "execution_count": null,
      "outputs": []
    },
    {
      "cell_type": "code",
      "metadata": {
        "id": "3bVwh_R6Mx25"
      },
      "source": [
        "dataiter = iter(data_loader)\n",
        "\n",
        "images,labels = dataiter.next()\n",
        "\n",
        "print(torch.min(images),torch.max(images))"
      ],
      "execution_count": null,
      "outputs": []
    },
    {
      "cell_type": "code",
      "metadata": {
        "id": "OmwZ0RvbNrFg"
      },
      "source": [
        "class Autoencoder(nn.Module):\n",
        "  def __init__(self):\n",
        "    super().__init__()\n",
        "    self.encoder = nn.Sequential(\n",
        "        nn.Linear(28*28,128),\n",
        "        nn.ReLU(),\n",
        "        nn.Linear(128,64),\n",
        "        nn.ReLU(),\n",
        "        nn.Linear(64,12),\n",
        "        nn.ReLU(),\n",
        "        nn.Linear(12,3),\n",
        "        \n",
        "    )\n",
        "    self.decoder = nn.Sequential(\n",
        "        nn.Linear(3,12),\n",
        "        nn.ReLU(),\n",
        "        nn.Linear(12,64),\n",
        "        nn.ReLU(),\n",
        "        nn.Linear(64,128),\n",
        "        nn.ReLU(),\n",
        "        nn.Linear(128,28*28),\n",
        "        nn.Sigmoid()\n",
        "        \n",
        "    )\n",
        "  def forward(self,x):\n",
        "    encoded = self.encoder(x)\n",
        "    decoded = self.decoder(encoded)\n",
        "\n",
        "    return decoded\n",
        "\n",
        "    \n",
        "      "
      ],
      "execution_count": null,
      "outputs": []
    },
    {
      "cell_type": "code",
      "metadata": {
        "id": "6FS-87x7hbtU"
      },
      "source": [
        "model = Autoencoder()\n",
        "\n",
        "criterion = nn.MSELoss()\n",
        "optimiser = optim.Adam(model.parameters(),lr=1e-3,weight_decay=1e-5)\n"
      ],
      "execution_count": null,
      "outputs": []
    },
    {
      "cell_type": "code",
      "metadata": {
        "id": "Os4sjlKEuVjC"
      },
      "source": [
        "num_epoch =10\n",
        "output = []\n",
        "\n",
        "for epoch in range(num_epoch):\n",
        "  for (img, _) in data_loader:\n",
        "    img=img.reshape(-1,28*28)\n",
        "    recon = model(img)\n",
        "    loss = criterion(recon,img)\n",
        "\n",
        "    optimiser.zero_grad()\n",
        "    loss.backward()\n",
        "    optimiser.step()\n",
        "\n",
        "  print(f'Epoch:{epoch+1},Loss:{loss.item():.4f}')\n",
        "  output.append((epoch,img,recon))\n",
        "\n"
      ],
      "execution_count": null,
      "outputs": []
    },
    {
      "cell_type": "code",
      "metadata": {
        "id": "gEHIx62wre9P"
      },
      "source": [
        "for k in range(0,num_epoch,4):\n",
        "  plt.figure(figsize=(9,2))\n",
        "  plt.gray()\n",
        "  imgs=output[k][1].detach().numpy()\n",
        "  recon=output[k][2].detach().numpy()\n",
        "  for i,item in enumerate(imgs):\n",
        "    if i>= 9: break\n",
        "    plt.subplot(2,9,i+1)\n",
        "    item=item.reshape(-1,28,28)\n",
        "    plt.imshow(item[0])\n",
        "\n",
        "  for i,item in enumerate(recon):\n",
        "    if i >= 9:break\n",
        "    plt.subplot(2,9,9+i+1)\n",
        "    item=item.reshape(-1,28,28)\n",
        "    plt.imshow(item[0])\n"
      ],
      "execution_count": null,
      "outputs": []
    },
    {
      "cell_type": "code",
      "metadata": {
        "id": "ZMGxf-dB2pZE"
      },
      "source": [
        ""
      ],
      "execution_count": null,
      "outputs": []
    }
  ]
}